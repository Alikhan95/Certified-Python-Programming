{
 "cells": [
  {
   "cell_type": "code",
   "execution_count": 5,
   "metadata": {},
   "outputs": [
    {
     "name": "stdout",
     "output_type": "stream",
     "text": [
      "Enter Operator /\n",
      "Enter first value 8\n",
      "Enter second value 4\n",
      "2.0\n"
     ]
    }
   ],
   "source": [
    "#Question 01\n",
    "#Make a calculator using Python with addition , subtraction , multiplication ,division and power.\n",
    "op =input(\"Enter Operator \" )\n",
    "first =int(input(\"Enter first value \" ))\n",
    "second =int(input(\"Enter second value \" ))\n",
    "if op == \"+\":\n",
    "    z = first + second\n",
    "    print(z)\n",
    "elif op == \"/\":\n",
    "    z = first / second\n",
    "    print(z)\n",
    "elif op == \"-\":\n",
    "    z = first - second\n",
    "    print(z)\n",
    "elif op == \"*\":\n",
    "    z = first * second\n",
    "    print(z)\n",
    "elif op == \"**\":\n",
    "    z = first * second\n",
    "    print(z)\n",
    "else:\n",
    "    print(\"wrong input\")"
   ]
  },
  {
   "cell_type": "code",
   "execution_count": 7,
   "metadata": {},
   "outputs": [
    {
     "name": "stdout",
     "output_type": "stream",
     "text": [
      "YES\n",
      "33.4\n"
     ]
    }
   ],
   "source": [
    "#Question 02\n",
    "# Write a program to check if there is any numeric value in list using for loop\n",
    "l = [\"Ali\",\"Khan\",'j',33.4]\n",
    "for a in l:\n",
    "    if (type(a) == int) |(type(a) == float) :\n",
    "        print(\"YES\")\n",
    "        print(a)\n",
    "        break\n",
    "    \n",
    "        \n",
    "    \n"
   ]
  },
  {
   "cell_type": "code",
   "execution_count": 10,
   "metadata": {},
   "outputs": [
    {
     "name": "stdout",
     "output_type": "stream",
     "text": [
      "{'a': 1, 'b': 2, 'c': 3, 'd': 4}\n",
      "{'a': 1, 'b': 2, 'c': 3, 'd': '5'}\n"
     ]
    }
   ],
   "source": [
    "#Write a Python script to add a key to a dictionary\n",
    "dict1 = {'a': 1, 'b': 2, 'c': 3, 'd': 4}\n",
    "\n",
    "print(dict1)\n",
    "dict1[\"d\"] = \"5\"\n",
    "print(dict1)\n",
    "\n"
   ]
  },
  {
   "cell_type": "code",
   "execution_count": 11,
   "metadata": {},
   "outputs": [
    {
     "name": "stdout",
     "output_type": "stream",
     "text": [
      "6\n"
     ]
    }
   ],
   "source": [
    "# Write a Python program to sum all the numeric items in a dictionary\n",
    "\n",
    "count =0\n",
    "for a in dict1.values():\n",
    "    if (type(a) == int) |(type(a) == float) :\n",
    "        count = count + a\n",
    "print(count)\n",
    "\n"
   ]
  },
  {
   "cell_type": "code",
   "execution_count": 28,
   "metadata": {},
   "outputs": [
    {
     "name": "stdout",
     "output_type": "stream",
     "text": [
      "[5, 3, 6, 8, 7]\n"
     ]
    }
   ],
   "source": [
    "# Write a program to identify duplicate values from list\n",
    "l = [2,5,3,6,8,5,3,5,7,8,9,3,1,4,6,7,0]\n",
    "k = []\n",
    "for a in l:\n",
    "    count = 0\n",
    "    c = l.index(a)\n",
    "    for i in range(c+1,len(l)):\n",
    "        if l[i] == a:\n",
    "            count +=1\n",
    "    if count > 0:\n",
    "        if a not in k:\n",
    "            k.append(a)\n",
    "print(k)\n",
    "    \n",
    "            \n",
    "    \n"
   ]
  },
  {
   "cell_type": "code",
   "execution_count": 12,
   "metadata": {},
   "outputs": [
    {
     "name": "stdout",
     "output_type": "stream",
     "text": [
      "Enter Key: d\n",
      "exist\n"
     ]
    }
   ],
   "source": [
    "# Write a Python script to check if a given key already exists in a dictionary\n",
    "i = input(\"Enter Key: \")\n",
    "if i in dict1:\n",
    "    print(\"exist\")\n",
    "else:\n",
    "    print(\"dosenot exist \")"
   ]
  },
  {
   "cell_type": "code",
   "execution_count": null,
   "metadata": {},
   "outputs": [],
   "source": []
  }
 ],
 "metadata": {
  "kernelspec": {
   "display_name": "Python 3",
   "language": "python",
   "name": "python3"
  },
  "language_info": {
   "codemirror_mode": {
    "name": "ipython",
    "version": 3
   },
   "file_extension": ".py",
   "mimetype": "text/x-python",
   "name": "python",
   "nbconvert_exporter": "python",
   "pygments_lexer": "ipython3",
   "version": "3.7.4"
  }
 },
 "nbformat": 4,
 "nbformat_minor": 2
}
